{
 "cells": [
  {
   "cell_type": "markdown",
   "metadata": {},
   "source": [
    "# Data Prep\n",
    "--- "
   ]
  },
  {
   "cell_type": "code",
   "execution_count": 96,
   "metadata": {},
   "outputs": [],
   "source": [
    "import pandas as pd # managing data in data frame\n",
    "import numpy as np # generating numbers for alpha values\n",
    "\n",
    "import statsmodels.formula.api as smf # for linear modeling\n",
    "import statsmodels.regression.linear_model as sma\n",
    "\n",
    "import matplotlib.pyplot as plt\n",
    "import warnings\n",
    "warnings.filterwarnings('ignore')\n",
    "\n",
    "\n",
    "feature_test = pd.read_csv('data/dengue_features_test.csv')\n",
    "feature_train = pd.read_csv('data/dengue_features_train.csv')\n",
    "labels_train = pd.read_csv('data/dengue_labels_train.csv')"
   ]
  },
  {
   "cell_type": "markdown",
   "metadata": {},
   "source": [
    "* **feature_train**: is the climate data for a week of a given year\n",
    "* **labels_train**: number of dengue cases for a week and year\n",
    "* **feature_test**: Use to test our model\n"
   ]
  },
  {
   "cell_type": "code",
   "execution_count": 97,
   "metadata": {},
   "outputs": [],
   "source": [
    "# merge the data sets into one fat table\n",
    "new_df = pd.merge(feature_train, labels_train,  how='left', left_on=['city','year', 'weekofyear'], right_on = ['city','year', 'weekofyear'])\n",
    "\n",
    "# Normalize data\n",
    "new_df['reanalysis_air_temp_c'] = new_df['reanalysis_air_temp_k'] - 273.15\n",
    "new_df['reanalysis_tdtr_c'] = new_df['reanalysis_tdtr_k'] - 273.15\n",
    "new_df['reanalysis_avg_temp_c'] = new_df['reanalysis_avg_temp_k'] - 273.15\n",
    "new_df['reanalysis_dew_point_temp_c'] = new_df['reanalysis_dew_point_temp_k'] - 273.15\n",
    "new_df['reanalysis_min_air_temp_c'] = new_df['reanalysis_min_air_temp_k'] - 273.15\n",
    "new_df['reanalysis_max_air_temp_c'] = new_df['reanalysis_max_air_temp_k'] - 273.15\n",
    "\n",
    "normalized_df = new_df.drop(['reanalysis_air_temp_k', 'reanalysis_tdtr_k', 'reanalysis_avg_temp_k', 'reanalysis_dew_point_temp_k', 'reanalysis_min_air_temp_k', 'reanalysis_max_air_temp_k'], axis=1)\n",
    "normalized_df = normalized_df.drop(['city', 'week_start_date'], axis=1)\n",
    "normalized_df = normalized_df.dropna()"
   ]
  },
  {
   "cell_type": "code",
   "execution_count": 98,
   "metadata": {},
   "outputs": [],
   "source": [
    "# Adding one new column, average temperature\n",
    "normalized_df['new_avg_temp_c'] = ( normalized_df.station_avg_temp_c + normalized_df.reanalysis_avg_temp_c)/ 2"
   ]
  },
  {
   "cell_type": "code",
   "execution_count": 4,
   "metadata": {},
   "outputs": [
    {
     "name": "stdout",
     "output_type": "stream",
     "text": [
      "train features shape (959, 24)\n",
      "test features shape (240, 24)\n",
      "full training datasets features shape (959, 24)\n",
      "test outcomes shape (240,)\n",
      "train outcomes shape (959,)\n"
     ]
    }
   ],
   "source": [
    "# Split data\n",
    "from sklearn.model_selection import train_test_split\n",
    "\n",
    "# normalized_dropped = normalized_df.drop(['total_cases'], axis=1)\n",
    "train_features, test_features, train_outcome, test_outcome = train_test_split(\n",
    "                                                                               normalized_df,      # features\n",
    "                                                                               normalized_df.total_cases,    # outcome\n",
    "                                                                               test_size=0.20, # percentage of data to use as the test set\n",
    "                                                                               random_state=15 # set a random state so it is consistent (not required!)\n",
    "                                                                            )\n",
    "\n",
    "print(\"train features shape\", train_features.shape)\n",
    "print(\"test features shape\", test_features.shape)\n",
    "print(\"full training datasets features shape\", train_features.shape)\n",
    "print(\"test outcomes shape\", test_outcome.shape)\n",
    "print(\"train outcomes shape\", train_outcome.shape)"
   ]
  },
  {
   "cell_type": "code",
   "execution_count": 5,
   "metadata": {},
   "outputs": [],
   "source": [
    "X_test = test_features.drop(['total_cases'], axis=1)\n",
    "Y_test = test_features.total_cases\n",
    "\n",
    "X_train = train_features.drop(['total_cases'], axis=1)\n",
    "Y_train = train_features.total_cases"
   ]
  },
  {
   "cell_type": "markdown",
   "metadata": {},
   "source": [
    "<br>\n",
    "<br>\n",
    "<br>\n",
    "<br>\n",
    "\n",
    "# Feature Selection - Lasso\n",
    "---\n",
    "\n",
    "> What is it? \"Feature selection… is the process of selecting a subset of relevant features for use in model construction\".\n",
    ">\n",
    "> \"Feature selection methods can be used to identify and remove unneeded, irrelevant and redundant attributes from data that do not contribute to the accuracy of a predictive model or may in fact decrease the accuracy of the model.\n",
    "> Fewer attributes is desirable because it reduces the complexity of the model, and a simpler model is simpler to understand and explain\" ([sources](https://machinelearningmastery.com/an-introduction-to-feature-selection/)).\n",
    "\n"
   ]
  },
  {
   "cell_type": "code",
   "execution_count": 6,
   "metadata": {},
   "outputs": [],
   "source": [
    "from sklearn.linear_model import Lasso\n",
    "\n",
    "lassoReg = Lasso(alpha=1e-4, normalize=True)\n",
    "lassoReg.fit(train_features, train_outcome)\n",
    "pred = lassoReg.predict(test_features)"
   ]
  },
  {
   "cell_type": "code",
   "execution_count": 7,
   "metadata": {},
   "outputs": [],
   "source": [
    "# Code reference: https://www.analyticsvidhya.com/blog/2016/01/complete-tutorial-ridge-lasso-regression-python/#four\n",
    "\n",
    "def getBestAlpha(dataFrame, outcomeFeatureName, alpha_values, train_features, train_outcome ,test_features):\n",
    "    \"\"\"\n",
    "    \n",
    "    Returns a pandas data frame row with best rss score and alpha.\n",
    "    \"\"\"\n",
    "    \n",
    "    column_names= ['alpha_lasso', 'rss'] + (list(dataFrame.drop([outcomeFeatureName], axis=1).columns))\n",
    "    \n",
    "    alpha_df = pd.DataFrame(columns=column_names)\n",
    "    \n",
    "    for alpha_val in alpha_values:\n",
    "        lassoReg = Lasso(alpha=alpha_val, normalize=True)\n",
    "        lassoReg.fit(train_features.drop(['total_cases'], axis=1), train_outcome)\n",
    "        pred = lassoReg.predict(test_features.drop(['total_cases'], axis=1))\n",
    "\n",
    "        rss = sum((pred-test_features.total_cases)**2)\n",
    "\n",
    "        new_row = [alpha_val, rss] + (list(lassoReg.coef_))\n",
    "        alpha_df.loc[len(alpha_df)] = new_row \n",
    "\n",
    "\n",
    "    return(alpha_df[alpha_df.rss == alpha_df.rss.min()])\n",
    "    \n",
    "    "
   ]
  },
  {
   "cell_type": "code",
   "execution_count": 8,
   "metadata": {
    "scrolled": true
   },
   "outputs": [
    {
     "name": "stdout",
     "output_type": "stream",
     "text": [
      "\n",
      "\n",
      "--- Getting Best Alpha Value ---\n",
      "* First best alpha value from a broad array of numbers between 1e-15 and 10.0:  0.001\n",
      "* Narrowing down again, between 0.0001 and 0.002. Best alpha value is  0.0005\n",
      "* Final narrow down between 0.0004 and 0.0006. Final best alpha value is  0.0005400000000000003\n",
      "* Our current lasso regression model, using the best alpha value found describes 0.24 of our data. \n",
      "  Let's see if our next models can do better!\n"
     ]
    },
    {
     "data": {
      "text/html": [
       "<div>\n",
       "<style scoped>\n",
       "    .dataframe tbody tr th:only-of-type {\n",
       "        vertical-align: middle;\n",
       "    }\n",
       "\n",
       "    .dataframe tbody tr th {\n",
       "        vertical-align: top;\n",
       "    }\n",
       "\n",
       "    .dataframe thead th {\n",
       "        text-align: right;\n",
       "    }\n",
       "</style>\n",
       "<table border=\"1\" class=\"dataframe\">\n",
       "  <thead>\n",
       "    <tr style=\"text-align: right;\">\n",
       "      <th></th>\n",
       "      <th>alpha_lasso</th>\n",
       "      <th>rss</th>\n",
       "      <th>year</th>\n",
       "      <th>weekofyear</th>\n",
       "      <th>ndvi_ne</th>\n",
       "      <th>ndvi_nw</th>\n",
       "      <th>ndvi_se</th>\n",
       "      <th>ndvi_sw</th>\n",
       "      <th>precipitation_amt_mm</th>\n",
       "      <th>reanalysis_precip_amt_kg_per_m2</th>\n",
       "      <th>...</th>\n",
       "      <th>station_max_temp_c</th>\n",
       "      <th>station_min_temp_c</th>\n",
       "      <th>station_precip_mm</th>\n",
       "      <th>reanalysis_air_temp_c</th>\n",
       "      <th>reanalysis_tdtr_c</th>\n",
       "      <th>reanalysis_avg_temp_c</th>\n",
       "      <th>reanalysis_dew_point_temp_c</th>\n",
       "      <th>reanalysis_min_air_temp_c</th>\n",
       "      <th>reanalysis_max_air_temp_c</th>\n",
       "      <th>new_avg_temp_c</th>\n",
       "    </tr>\n",
       "  </thead>\n",
       "  <tbody>\n",
       "    <tr>\n",
       "      <th>14</th>\n",
       "      <td>0.00054</td>\n",
       "      <td>144878.645546</td>\n",
       "      <td>-1.425414</td>\n",
       "      <td>0.176532</td>\n",
       "      <td>-12.898148</td>\n",
       "      <td>8.967925</td>\n",
       "      <td>-6.463009</td>\n",
       "      <td>5.513956</td>\n",
       "      <td>0.0</td>\n",
       "      <td>0.006939</td>\n",
       "      <td>...</td>\n",
       "      <td>-1.200511</td>\n",
       "      <td>0.486708</td>\n",
       "      <td>-0.0</td>\n",
       "      <td>0.0</td>\n",
       "      <td>0.0</td>\n",
       "      <td>-11.542931</td>\n",
       "      <td>-9.978702</td>\n",
       "      <td>0.000827</td>\n",
       "      <td>1.33848</td>\n",
       "      <td>-0.0</td>\n",
       "    </tr>\n",
       "  </tbody>\n",
       "</table>\n",
       "<p>1 rows × 25 columns</p>\n",
       "</div>"
      ],
      "text/plain": [
       "    alpha_lasso            rss      year  weekofyear    ndvi_ne   ndvi_nw  \\\n",
       "14      0.00054  144878.645546 -1.425414    0.176532 -12.898148  8.967925   \n",
       "\n",
       "     ndvi_se   ndvi_sw  precipitation_amt_mm  reanalysis_precip_amt_kg_per_m2  \\\n",
       "14 -6.463009  5.513956                   0.0                         0.006939   \n",
       "\n",
       "         ...        station_max_temp_c  station_min_temp_c  station_precip_mm  \\\n",
       "14       ...                 -1.200511            0.486708               -0.0   \n",
       "\n",
       "    reanalysis_air_temp_c  reanalysis_tdtr_c  reanalysis_avg_temp_c  \\\n",
       "14                    0.0                0.0             -11.542931   \n",
       "\n",
       "    reanalysis_dew_point_temp_c  reanalysis_min_air_temp_c  \\\n",
       "14                    -9.978702                   0.000827   \n",
       "\n",
       "    reanalysis_max_air_temp_c  new_avg_temp_c  \n",
       "14                    1.33848            -0.0  \n",
       "\n",
       "[1 rows x 25 columns]"
      ]
     },
     "execution_count": 8,
     "metadata": {},
     "output_type": "execute_result"
    }
   ],
   "source": [
    "\n",
    "print(\"\\n\\n--- Getting Best Alpha Value ---\")\n",
    "alpha_values = [1e-15, 1e-10, 1e-8, 1e-5,1e-4, 1e-3,1e-2,1, 5, 10]\n",
    "row = getBestAlpha(normalized_df, \"total_cases\", alpha_values, train_features, train_outcome ,test_features)\n",
    "print(\"* First best alpha value from a broad array of numbers between 1e-15 and 10.0: \" , (row.alpha_lasso).iloc[0])\n",
    "\n",
    "alpha_values = np.arange(0.0001, 0.002, 0.0001)\n",
    "row2 = getBestAlpha(normalized_df, \"total_cases\", alpha_values, train_features, train_outcome ,test_features)\n",
    "print(\"* Narrowing down again, between 0.0001 and 0.002. Best alpha value is \" , (row2.alpha_lasso).iloc[0])\n",
    "\n",
    "alpha_values = np.arange(0.0004, 0.0006, 0.00001)\n",
    "row3 = getBestAlpha(normalized_df, \"total_cases\", alpha_values, train_features, train_outcome ,test_features)\n",
    "print(\"* Final narrow down between 0.0004 and 0.0006. Final best alpha value is \" , (row3.alpha_lasso).iloc[0])\n",
    "\n",
    "# R^2 = 0.2365, only explains 23.65% of the data with the current feature selections\n",
    "# Goal: Increase the R^2 over time\n",
    "lassoReg = Lasso(alpha=(row3.alpha_lasso).iloc[0], normalize=True)\n",
    "lassoReg.fit(train_features.drop(['total_cases'], axis=1), train_outcome)\n",
    "train_score = lassoReg.score(train_features.drop(['total_cases'], axis=1), train_outcome)\n",
    "print(\"* Our current lasso regression model, using the best alpha value found describes \" + str(round(train_score, 2)) + \" of our data. \\n  Let's see if our next models can do better!\")\n",
    "\n",
    "alpha = (row3.alpha_lasso).iloc[0]\n",
    "\n",
    "row3\n"
   ]
  },
  {
   "cell_type": "code",
   "execution_count": 9,
   "metadata": {
    "code_folding": [
     0
    ]
   },
   "outputs": [
    {
     "data": {
      "text/plain": [
       "(1, 19)"
      ]
     },
     "execution_count": 9,
     "metadata": {},
     "output_type": "execute_result"
    }
   ],
   "source": [
    "# Show rows that do not have a 0 zero beta coefficient.\n",
    "\n",
    "for col in row3:\n",
    "    if abs(row3[col].iloc[0]) == 0.0:\n",
    "        row3 = row3.drop(col, axis=1)\n",
    "row3.shape"
   ]
  },
  {
   "cell_type": "markdown",
   "metadata": {},
   "source": [
    "We started with 23 features\n",
    "Then minus `total cases` that's 22.\n",
    "\n",
    "After doing lasso we now have 17 features available."
   ]
  },
  {
   "cell_type": "markdown",
   "metadata": {},
   "source": [
    "<br>\n",
    "<br>\n",
    "<br>\n",
    "<br>\n",
    "\n",
    "# Modeling\n",
    "---\n",
    "\n",
    "We have now:\n",
    "* normalized the data\n",
    "* split the data\n",
    "* selected our best alpha value (feature selection) \n",
    "\n",
    "It is time to run several models against our data and observe the results."
   ]
  },
  {
   "cell_type": "markdown",
   "metadata": {},
   "source": [
    "### Predictions Data Frame"
   ]
  },
  {
   "cell_type": "code",
   "execution_count": 10,
   "metadata": {},
   "outputs": [],
   "source": [
    "# Build Data Frame that will store all predictions results\n",
    "results_df = pd.DataFrame()\n",
    "results_df['total_cases'] = test_features.total_cases"
   ]
  },
  {
   "cell_type": "markdown",
   "metadata": {},
   "source": [
    "### Multivariate linear regression with lasso \n",
    "\n",
    "```\n",
    "27.95955519 : reanalysis_specific_humidity_g_per_kg\n",
    "-11.542931 : reanalysis_avg_temp_c\n",
    "-12.898148 : ndvi_ne\n",
    "-9.978702 : reanalysis_dew_point_temp_c\n",
    "8.967925 : ndvi_nw\n",
    "\n",
    "-6.463: ndvi_se\n",
    "5.51 :  ndvi_sw\n",
    "-2.9: reanalysis_relative_humidity_percent\n",
    "\n",
    "-1.659: station_avg_temp_c\n",
    "-1.4254: year\n",
    "1.338: reanalysis_max_air_temp_c\n",
    "0.48670: station_min_temp_c\n",
    "```"
   ]
  },
  {
   "cell_type": "code",
   "execution_count": 11,
   "metadata": {
    "code_folding": []
   },
   "outputs": [],
   "source": [
    "def buildMultiString(arr, dependantName):\n",
    "    \"\"\"\n",
    "    Takes in an array of features and the name of your dependant\n",
    "    variable and returns a properly formatted forumal for\n",
    "    multivariate regression.\n",
    "    \"\"\"\n",
    "    result = dependantName + \" ~ \" + arr[0]\n",
    "    for feature in arr[1:]:\n",
    "        result += \" + \" + feature\n",
    "    return(result)\n",
    "    "
   ]
  },
  {
   "cell_type": "code",
   "execution_count": 12,
   "metadata": {
    "code_folding": []
   },
   "outputs": [],
   "source": [
    "# Below are feature sets, each one in order based on our lasso work.\n",
    "small_features = [\"reanalysis_specific_humidity_g_per_kg\",\n",
    " \"reanalysis_avg_temp_c\",\n",
    " \"ndvi_ne\",\n",
    " \"reanalysis_dew_point_temp_c\",\n",
    " \"ndvi_nw\"\n",
    "]\n",
    "medium_features  = small_features + [\"ndvi_se\", \"ndvi_sw\", \"reanalysis_relative_humidity_percent\" ]\n",
    "big_features  = medium_features + [\"station_avg_temp_c\", \"year\"]\n",
    "biggest_of_bois_features = big_features + [\"reanalysis_max_air_temp_c\", \"station_min_temp_c\"]\n",
    "\n",
    "# Prepare formulas\n",
    "formula_small = buildMultiString(small_features, \"total_cases\")\n",
    "formula_med = buildMultiString(medium_features, \"total_cases\")\n",
    "formula_big = buildMultiString(big_features, \"total_cases\")\n",
    "formula_biggest = buildMultiString(biggest_of_bois_features, \"total_cases\")"
   ]
  },
  {
   "cell_type": "code",
   "execution_count": 13,
   "metadata": {
    "code_folding": [],
    "scrolled": true
   },
   "outputs": [
    {
     "data": {
      "text/html": [
       "<table class=\"simpletable\">\n",
       "<caption>OLS Regression Results</caption>\n",
       "<tr>\n",
       "  <th>Dep. Variable:</th>       <td>total_cases</td>   <th>  R-squared:         </th> <td>   0.231</td>\n",
       "</tr>\n",
       "<tr>\n",
       "  <th>Model:</th>                   <td>OLS</td>       <th>  Adj. R-squared:    </th> <td>   0.221</td>\n",
       "</tr>\n",
       "<tr>\n",
       "  <th>Method:</th>             <td>Least Squares</td>  <th>  F-statistic:       </th> <td>   23.63</td>\n",
       "</tr>\n",
       "<tr>\n",
       "  <th>Date:</th>             <td>Mon, 04 Mar 2019</td> <th>  Prob (F-statistic):</th> <td>1.94e-46</td>\n",
       "</tr>\n",
       "<tr>\n",
       "  <th>Time:</th>                 <td>23:03:52</td>     <th>  Log-Likelihood:    </th> <td> -4536.0</td>\n",
       "</tr>\n",
       "<tr>\n",
       "  <th>No. Observations:</th>      <td>   959</td>      <th>  AIC:               </th> <td>   9098.</td>\n",
       "</tr>\n",
       "<tr>\n",
       "  <th>Df Residuals:</th>          <td>   946</td>      <th>  BIC:               </th> <td>   9161.</td>\n",
       "</tr>\n",
       "<tr>\n",
       "  <th>Df Model:</th>              <td>    12</td>      <th>                     </th>     <td> </td>   \n",
       "</tr>\n",
       "<tr>\n",
       "  <th>Covariance Type:</th>      <td>nonrobust</td>    <th>                     </th>     <td> </td>   \n",
       "</tr>\n",
       "</table>\n",
       "<table class=\"simpletable\">\n",
       "<tr>\n",
       "                    <td></td>                       <th>coef</th>     <th>std err</th>      <th>t</th>      <th>P>|t|</th>  <th>[0.025</th>    <th>0.975]</th>  \n",
       "</tr>\n",
       "<tr>\n",
       "  <th>Intercept</th>                             <td> 3489.6498</td> <td>  440.258</td> <td>    7.926</td> <td> 0.000</td> <td> 2625.654</td> <td> 4353.646</td>\n",
       "</tr>\n",
       "<tr>\n",
       "  <th>reanalysis_specific_humidity_g_per_kg</th> <td>   36.4167</td> <td>    9.833</td> <td>    3.704</td> <td> 0.000</td> <td>   17.120</td> <td>   55.713</td>\n",
       "</tr>\n",
       "<tr>\n",
       "  <th>reanalysis_avg_temp_c</th>                 <td>  -13.1680</td> <td>    4.116</td> <td>   -3.199</td> <td> 0.001</td> <td>  -21.246</td> <td>   -5.090</td>\n",
       "</tr>\n",
       "<tr>\n",
       "  <th>ndvi_ne</th>                               <td>  -14.0630</td> <td>   13.374</td> <td>   -1.051</td> <td> 0.293</td> <td>  -40.310</td> <td>   12.184</td>\n",
       "</tr>\n",
       "<tr>\n",
       "  <th>reanalysis_dew_point_temp_c</th>           <td>  -15.8934</td> <td>   10.133</td> <td>   -1.568</td> <td> 0.117</td> <td>  -35.780</td> <td>    3.993</td>\n",
       "</tr>\n",
       "<tr>\n",
       "  <th>ndvi_nw</th>                               <td>    7.8654</td> <td>   15.143</td> <td>    0.519</td> <td> 0.604</td> <td>  -21.852</td> <td>   37.583</td>\n",
       "</tr>\n",
       "<tr>\n",
       "  <th>ndvi_se</th>                               <td>   -0.3394</td> <td>   21.567</td> <td>   -0.016</td> <td> 0.987</td> <td>  -42.663</td> <td>   41.985</td>\n",
       "</tr>\n",
       "<tr>\n",
       "  <th>ndvi_sw</th>                               <td>    3.5697</td> <td>   20.522</td> <td>    0.174</td> <td> 0.862</td> <td>  -36.704</td> <td>   43.844</td>\n",
       "</tr>\n",
       "<tr>\n",
       "  <th>reanalysis_relative_humidity_percent</th>  <td>   -3.3896</td> <td>    0.726</td> <td>   -4.668</td> <td> 0.000</td> <td>   -4.815</td> <td>   -1.965</td>\n",
       "</tr>\n",
       "<tr>\n",
       "  <th>station_avg_temp_c</th>                    <td>   -3.6432</td> <td>    1.536</td> <td>   -2.371</td> <td> 0.018</td> <td>   -6.658</td> <td>   -0.628</td>\n",
       "</tr>\n",
       "<tr>\n",
       "  <th>year</th>                                  <td>   -1.5397</td> <td>    0.218</td> <td>   -7.052</td> <td> 0.000</td> <td>   -1.968</td> <td>   -1.111</td>\n",
       "</tr>\n",
       "<tr>\n",
       "  <th>reanalysis_max_air_temp_c</th>             <td>    1.7443</td> <td>    0.926</td> <td>    1.884</td> <td> 0.060</td> <td>   -0.073</td> <td>    3.561</td>\n",
       "</tr>\n",
       "<tr>\n",
       "  <th>station_min_temp_c</th>                    <td>    1.0404</td> <td>    1.224</td> <td>    0.850</td> <td> 0.395</td> <td>   -1.361</td> <td>    3.442</td>\n",
       "</tr>\n",
       "</table>\n",
       "<table class=\"simpletable\">\n",
       "<tr>\n",
       "  <th>Omnibus:</th>       <td>808.899</td> <th>  Durbin-Watson:     </th> <td>   1.951</td> \n",
       "</tr>\n",
       "<tr>\n",
       "  <th>Prob(Omnibus):</th> <td> 0.000</td>  <th>  Jarque-Bera (JB):  </th> <td>23806.821</td>\n",
       "</tr>\n",
       "<tr>\n",
       "  <th>Skew:</th>          <td> 3.732</td>  <th>  Prob(JB):          </th> <td>    0.00</td> \n",
       "</tr>\n",
       "<tr>\n",
       "  <th>Kurtosis:</th>      <td>26.239</td>  <th>  Cond. No.          </th> <td>9.90e+05</td> \n",
       "</tr>\n",
       "</table><br/><br/>Warnings:<br/>[1] Standard Errors assume that the covariance matrix of the errors is correctly specified.<br/>[2] The condition number is large, 9.9e+05. This might indicate that there are<br/>strong multicollinearity or other numerical problems."
      ],
      "text/plain": [
       "<class 'statsmodels.iolib.summary.Summary'>\n",
       "\"\"\"\n",
       "                            OLS Regression Results                            \n",
       "==============================================================================\n",
       "Dep. Variable:            total_cases   R-squared:                       0.231\n",
       "Model:                            OLS   Adj. R-squared:                  0.221\n",
       "Method:                 Least Squares   F-statistic:                     23.63\n",
       "Date:                Mon, 04 Mar 2019   Prob (F-statistic):           1.94e-46\n",
       "Time:                        23:03:52   Log-Likelihood:                -4536.0\n",
       "No. Observations:                 959   AIC:                             9098.\n",
       "Df Residuals:                     946   BIC:                             9161.\n",
       "Df Model:                          12                                         \n",
       "Covariance Type:            nonrobust                                         \n",
       "=========================================================================================================\n",
       "                                            coef    std err          t      P>|t|      [0.025      0.975]\n",
       "---------------------------------------------------------------------------------------------------------\n",
       "Intercept                              3489.6498    440.258      7.926      0.000    2625.654    4353.646\n",
       "reanalysis_specific_humidity_g_per_kg    36.4167      9.833      3.704      0.000      17.120      55.713\n",
       "reanalysis_avg_temp_c                   -13.1680      4.116     -3.199      0.001     -21.246      -5.090\n",
       "ndvi_ne                                 -14.0630     13.374     -1.051      0.293     -40.310      12.184\n",
       "reanalysis_dew_point_temp_c             -15.8934     10.133     -1.568      0.117     -35.780       3.993\n",
       "ndvi_nw                                   7.8654     15.143      0.519      0.604     -21.852      37.583\n",
       "ndvi_se                                  -0.3394     21.567     -0.016      0.987     -42.663      41.985\n",
       "ndvi_sw                                   3.5697     20.522      0.174      0.862     -36.704      43.844\n",
       "reanalysis_relative_humidity_percent     -3.3896      0.726     -4.668      0.000      -4.815      -1.965\n",
       "station_avg_temp_c                       -3.6432      1.536     -2.371      0.018      -6.658      -0.628\n",
       "year                                     -1.5397      0.218     -7.052      0.000      -1.968      -1.111\n",
       "reanalysis_max_air_temp_c                 1.7443      0.926      1.884      0.060      -0.073       3.561\n",
       "station_min_temp_c                        1.0404      1.224      0.850      0.395      -1.361       3.442\n",
       "==============================================================================\n",
       "Omnibus:                      808.899   Durbin-Watson:                   1.951\n",
       "Prob(Omnibus):                  0.000   Jarque-Bera (JB):            23806.821\n",
       "Skew:                           3.732   Prob(JB):                         0.00\n",
       "Kurtosis:                      26.239   Cond. No.                     9.90e+05\n",
       "==============================================================================\n",
       "\n",
       "Warnings:\n",
       "[1] Standard Errors assume that the covariance matrix of the errors is correctly specified.\n",
       "[2] The condition number is large, 9.9e+05. This might indicate that there are\n",
       "strong multicollinearity or other numerical problems.\n",
       "\"\"\""
      ]
     },
     "execution_count": 13,
     "metadata": {},
     "output_type": "execute_result"
    }
   ],
   "source": [
    "# Multivarite regression\n",
    "multModel = smf.ols(formula_biggest, data=train_features).fit()\n",
    "multivariate_preds = multModel.predict(test_features)\n",
    "results_df['multi_preds'] = multivariate_preds\n",
    "multModel.summary()"
   ]
  },
  {
   "cell_type": "markdown",
   "metadata": {},
   "source": [
    "### Ridge Regression"
   ]
  },
  {
   "cell_type": "code",
   "execution_count": 14,
   "metadata": {},
   "outputs": [],
   "source": [
    "# Ridge Regression\n",
    "\n",
    "from sklearn.linear_model import Ridge\n",
    "\n",
    "ridge_reg = Ridge(alpha=(row3.alpha_lasso).iloc[0],normalize=True)\n",
    "ridge_reg = ridge_reg.fit(X_train, Y_train)\n",
    "\n",
    "ridge_preds = ridge_reg.predict(X_test)\n",
    "results_df['ridge_preds'] = ridge_preds"
   ]
  },
  {
   "cell_type": "markdown",
   "metadata": {},
   "source": [
    "### KNN"
   ]
  },
  {
   "cell_type": "code",
   "execution_count": 15,
   "metadata": {},
   "outputs": [
    {
     "data": {
      "text/plain": [
       "16"
      ]
     },
     "execution_count": 15,
     "metadata": {},
     "output_type": "execute_result"
    }
   ],
   "source": [
    "from sklearn.neighbors import KNeighborsClassifier\n",
    "from sklearn.metrics import accuracy_score\n",
    "\n",
    "# Determine best number of neighbors\n",
    "accuracies = []\n",
    "\n",
    "for neighbor in range (1, 20):\n",
    "    knn_clf = KNeighborsClassifier(n_neighbors=neighbor) \n",
    "    knn_clf.fit(X_train, Y_train)\n",
    "    score = accuracy_score(knn_clf.predict(X_test), Y_test)\n",
    "    accuracies.append(score)\n",
    "    \n",
    "most_accur = max(accuracies)\n",
    "neighbor = accuracies.index(most_accur)\n",
    "neighbor # We find that k = 12 produces the most accurate values of 12.08%"
   ]
  },
  {
   "cell_type": "code",
   "execution_count": 16,
   "metadata": {},
   "outputs": [],
   "source": [
    "knn_clf = KNeighborsClassifier(n_neighbors=neighbor)\n",
    "knn_model = knn_clf.fit(X_train, Y_train)\n",
    "results_df[\"knn_preds\"] = knn_model.predict(X_test)"
   ]
  },
  {
   "cell_type": "markdown",
   "metadata": {},
   "source": [
    "### Lasso regression"
   ]
  },
  {
   "cell_type": "code",
   "execution_count": 17,
   "metadata": {},
   "outputs": [],
   "source": [
    "lassoReg = Lasso(alpha=alpha, normalize=True)\n",
    "lassoReg.fit(X_train, Y_train)\n",
    "lasso_preds = lassoReg.predict(X_test)\n",
    "results_df['lasso_preds'] = lasso_preds"
   ]
  },
  {
   "cell_type": "markdown",
   "metadata": {},
   "source": [
    "### Decision Tree"
   ]
  },
  {
   "cell_type": "code",
   "execution_count": 18,
   "metadata": {},
   "outputs": [],
   "source": [
    "from sklearn.tree import DecisionTreeClassifier\n",
    "tree_clf = DecisionTreeClassifier(random_state=92)\n",
    "tree_fit = tree_clf.fit(X_train, Y_train)\n",
    "tree_preds = tree_fit.predict(X_test)\n",
    "results_df['tree_preds'] = tree_preds"
   ]
  },
  {
   "cell_type": "code",
   "execution_count": 19,
   "metadata": {},
   "outputs": [
    {
     "data": {
      "text/html": [
       "<div>\n",
       "<style scoped>\n",
       "    .dataframe tbody tr th:only-of-type {\n",
       "        vertical-align: middle;\n",
       "    }\n",
       "\n",
       "    .dataframe tbody tr th {\n",
       "        vertical-align: top;\n",
       "    }\n",
       "\n",
       "    .dataframe thead th {\n",
       "        text-align: right;\n",
       "    }\n",
       "</style>\n",
       "<table border=\"1\" class=\"dataframe\">\n",
       "  <thead>\n",
       "    <tr style=\"text-align: right;\">\n",
       "      <th></th>\n",
       "      <th>total_cases</th>\n",
       "      <th>multi_preds</th>\n",
       "      <th>ridge_preds</th>\n",
       "      <th>knn_preds</th>\n",
       "      <th>lasso_preds</th>\n",
       "      <th>tree_preds</th>\n",
       "    </tr>\n",
       "  </thead>\n",
       "  <tbody>\n",
       "    <tr>\n",
       "      <th>121</th>\n",
       "      <td>59</td>\n",
       "      <td>44.082773</td>\n",
       "      <td>45.181947</td>\n",
       "      <td>2</td>\n",
       "      <td>45.158851</td>\n",
       "      <td>21</td>\n",
       "    </tr>\n",
       "    <tr>\n",
       "      <th>1202</th>\n",
       "      <td>5</td>\n",
       "      <td>0.339421</td>\n",
       "      <td>2.352861</td>\n",
       "      <td>0</td>\n",
       "      <td>2.179550</td>\n",
       "      <td>9</td>\n",
       "    </tr>\n",
       "    <tr>\n",
       "      <th>159</th>\n",
       "      <td>10</td>\n",
       "      <td>35.559827</td>\n",
       "      <td>32.777274</td>\n",
       "      <td>10</td>\n",
       "      <td>33.031947</td>\n",
       "      <td>16</td>\n",
       "    </tr>\n",
       "    <tr>\n",
       "      <th>1305</th>\n",
       "      <td>3</td>\n",
       "      <td>-12.434199</td>\n",
       "      <td>-9.118408</td>\n",
       "      <td>0</td>\n",
       "      <td>-8.451486</td>\n",
       "      <td>5</td>\n",
       "    </tr>\n",
       "    <tr>\n",
       "      <th>1231</th>\n",
       "      <td>26</td>\n",
       "      <td>11.274763</td>\n",
       "      <td>8.881232</td>\n",
       "      <td>1</td>\n",
       "      <td>8.810301</td>\n",
       "      <td>8</td>\n",
       "    </tr>\n",
       "  </tbody>\n",
       "</table>\n",
       "</div>"
      ],
      "text/plain": [
       "      total_cases  multi_preds  ridge_preds  knn_preds  lasso_preds  \\\n",
       "121            59    44.082773    45.181947          2    45.158851   \n",
       "1202            5     0.339421     2.352861          0     2.179550   \n",
       "159            10    35.559827    32.777274         10    33.031947   \n",
       "1305            3   -12.434199    -9.118408          0    -8.451486   \n",
       "1231           26    11.274763     8.881232          1     8.810301   \n",
       "\n",
       "      tree_preds  \n",
       "121           21  \n",
       "1202           9  \n",
       "159           16  \n",
       "1305           5  \n",
       "1231           8  "
      ]
     },
     "execution_count": 19,
     "metadata": {},
     "output_type": "execute_result"
    }
   ],
   "source": [
    "results_df.head()"
   ]
  },
  {
   "cell_type": "markdown",
   "metadata": {},
   "source": [
    "<br>\n",
    "<br>\n",
    "<br>\n",
    "<br>\n",
    "\n",
    "# Cross Validation\n",
    "---"
   ]
  },
  {
   "cell_type": "code",
   "execution_count": 20,
   "metadata": {},
   "outputs": [],
   "source": [
    "from sklearn.model_selection import cross_val_score\n",
    "from sklearn.model_selection import KFold\n",
    "\n",
    "folds = KFold(n_splits=10, shuffle=True)\n",
    "\n",
    "# cross_val_score = Array of scores of the estimator for each run of the cross validation.\n",
    "\n",
    "def run_Cross_validation(model_object, model_name):\n",
    "    scores = cross_val_score(model_object, X_train, Y_train, cv = folds)\n",
    "    print(model_name, \"MEAN:\", round(scores.mean(), 2), \"MIN:\", round(scores.min(), 2), \"MAX:\", round(scores.max(), 2))"
   ]
  },
  {
   "cell_type": "code",
   "execution_count": 21,
   "metadata": {},
   "outputs": [
    {
     "name": "stdout",
     "output_type": "stream",
     "text": [
      "KNN MEAN: 0.06 MIN: 0.01 MAX: 0.08\n",
      "Lasso MEAN: 0.17 MIN: -0.15 MAX: 0.28\n",
      "Ridge MEAN: 0.19 MIN: -0.04 MAX: 0.38\n",
      "Tree MEAN: 0.08 MIN: 0.05 MAX: 0.09\n"
     ]
    }
   ],
   "source": [
    "run_Cross_validation(knn_clf, \"KNN\")\n",
    "run_Cross_validation(lassoReg, \"Lasso\")\n",
    "run_Cross_validation(ridge_reg, \"Ridge\")\n",
    "run_Cross_validation(tree_clf, \"Tree\")"
   ]
  },
  {
   "cell_type": "markdown",
   "metadata": {},
   "source": [
    "### Grid Search"
   ]
  },
  {
   "cell_type": "code",
   "execution_count": 22,
   "metadata": {},
   "outputs": [
    {
     "name": "stdout",
     "output_type": "stream",
     "text": [
      "KNN params: {'n_neighbors': 4, 'weights': 'uniform'} KNN score: 0.0375\n"
     ]
    },
    {
     "name": "stderr",
     "output_type": "stream",
     "text": [
      "/anaconda3/lib/python3.7/site-packages/sklearn/model_selection/_search.py:841: DeprecationWarning: The default of the `iid` parameter will change from True to False in version 0.22 and will be removed in 0.24. This will change numeric results when test-set sizes are unequal.\n",
      "  DeprecationWarning)\n"
     ]
    }
   ],
   "source": [
    "from sklearn.model_selection import GridSearchCV\n",
    "\n",
    "# for knn\n",
    "param_grid = {'n_neighbors':range(1, 20), 'weights':[\"uniform\", \"distance\"]}\n",
    "grid_search = GridSearchCV(KNeighborsClassifier(), param_grid, cv=10, return_train_score=True)\n",
    "grid_search.fit(X_train, Y_train)\n",
    "knn_params = grid_search.cv_results_['params'][grid_search.best_index_]\n",
    "knn_score = grid_search.score(X_test, Y_test)\n",
    "print(\"KNN params:\", knn_params, \"KNN score:\", knn_score)"
   ]
  },
  {
   "cell_type": "code",
   "execution_count": 23,
   "metadata": {
    "scrolled": true
   },
   "outputs": [
    {
     "name": "stdout",
     "output_type": "stream",
     "text": [
      "Tree params: {'random_state': 37} Tree score: 0.12083333333333333\n"
     ]
    },
    {
     "name": "stderr",
     "output_type": "stream",
     "text": [
      "/anaconda3/lib/python3.7/site-packages/sklearn/model_selection/_search.py:841: DeprecationWarning: The default of the `iid` parameter will change from True to False in version 0.22 and will be removed in 0.24. This will change numeric results when test-set sizes are unequal.\n",
      "  DeprecationWarning)\n"
     ]
    }
   ],
   "source": [
    "# for tree\n",
    "from sklearn.tree import DecisionTreeClassifier\n",
    "\n",
    "param_grid1 = {'random_state': np.arange(1, 100)}\n",
    "tree_grid = GridSearchCV(DecisionTreeClassifier(), param_grid1, cv=10, return_train_score=True)\n",
    "tree_grid.fit(X_train, Y_train)\n",
    "tree_params = tree_grid.cv_results_['params'][tree_grid.best_index_]\n",
    "tree_score = tree_grid.score(X_test, Y_test)\n",
    "print(\"Tree params:\", tree_params, \"Tree score:\", tree_score)"
   ]
  },
  {
   "cell_type": "code",
   "execution_count": 24,
   "metadata": {},
   "outputs": [
    {
     "name": "stdout",
     "output_type": "stream",
     "text": [
      "Best params Lasso: {'alpha': 0.0009900000000000004}, lasso score: -777.35\n"
     ]
    },
    {
     "name": "stderr",
     "output_type": "stream",
     "text": [
      "/anaconda3/lib/python3.7/site-packages/sklearn/model_selection/_search.py:841: DeprecationWarning: The default of the `iid` parameter will change from True to False in version 0.22 and will be removed in 0.24. This will change numeric results when test-set sizes are unequal.\n",
      "  DeprecationWarning)\n"
     ]
    }
   ],
   "source": [
    "# Guide: https://towardsdatascience.com/how-to-perform-lasso-and-ridge-regression-in-python-3b3b75541ad8\n",
    "\n",
    "# Lasso GridCV\n",
    "lasso = Lasso()\n",
    "# parameters = {'alpha': [1e-15, 1e-10, 1e-8, 1e-5,1e-4, 1e-3,1e-2]}\n",
    "\n",
    "parameters = {'alpha': np.arange(0.0008, 0.001, 0.00001)}\n",
    "\n",
    "lasso_regressor = GridSearchCV(lasso, parameters, scoring='neg_mean_squared_error', cv=5)\n",
    "lasso_regressor.fit(X_train, Y_train)\n",
    "print(\"Best params Lasso: {}, lasso score: {}\".format(lasso_regressor.best_params_, round(lasso_regressor.best_score_, 2)))"
   ]
  },
  {
   "cell_type": "code",
   "execution_count": 25,
   "metadata": {},
   "outputs": [
    {
     "name": "stdout",
     "output_type": "stream",
     "text": [
      "Best params Ridge: {'alpha': 5}, Ridge score: -775.7\n"
     ]
    },
    {
     "name": "stderr",
     "output_type": "stream",
     "text": [
      "/anaconda3/lib/python3.7/site-packages/sklearn/model_selection/_search.py:841: DeprecationWarning: The default of the `iid` parameter will change from True to False in version 0.22 and will be removed in 0.24. This will change numeric results when test-set sizes are unequal.\n",
      "  DeprecationWarning)\n"
     ]
    }
   ],
   "source": [
    "# Ridge GridCV\n",
    "ridge = Ridge()\n",
    "parameters = {'alpha': [1e-15, 1e-10, 1e-8, 1e-5,1e-4, 1e-3,1e-2,1, 5, 10]}\n",
    "ridge_regressor = GridSearchCV(ridge, parameters, scoring='neg_mean_squared_error', cv=5)\n",
    "ridge_regressor.fit(X_train, Y_train)\n",
    "print(\"Best params Ridge: {}, Ridge score: {}\".format(ridge_regressor.best_params_, round(ridge_regressor.best_score_, 2)))"
   ]
  },
  {
   "cell_type": "code",
   "execution_count": 26,
   "metadata": {},
   "outputs": [],
   "source": [
    "def calculate_RSS(actual, predicted, predicted_method):\n",
    "    \"\"\"\n",
    "    Given the actual values of a dataset and the predicted values, this method calculates the RSS\n",
    "    \"\"\"\n",
    "    if len(actual) == len(predicted):\n",
    "        rss = 0\n",
    "        for i in range (0, len(actual)):\n",
    "            residual = actual[i] - predicted[i]\n",
    "            rss = rss + sum(residual * residual)\n",
    "        print(predicted_method, rss)\n",
    "        return rss"
   ]
  },
  {
   "cell_type": "code",
   "execution_count": 27,
   "metadata": {},
   "outputs": [
    {
     "name": "stdout",
     "output_type": "stream",
     "text": [
      "multi_preds 146602.61556906314\n",
      "ridge_preds 145019.27920884843\n",
      "knn_preds 234678\n",
      "lasso_preds 144878.64554617408\n",
      "tree_preds 202654\n"
     ]
    }
   ],
   "source": [
    "# Create RSS dataframe\n",
    "rss_df = pd.DataFrame()\n",
    "\n",
    "for col in results_df.columns[1:]:\n",
    "    rss_score = calculate_RSS(list([results_df.total_cases]), list([results_df[col]]), str(col))\n",
    "    rss_df[str(col)] = [rss_score]"
   ]
  },
  {
   "cell_type": "code",
   "execution_count": 28,
   "metadata": {},
   "outputs": [
    {
     "data": {
      "text/html": [
       "<div>\n",
       "<style scoped>\n",
       "    .dataframe tbody tr th:only-of-type {\n",
       "        vertical-align: middle;\n",
       "    }\n",
       "\n",
       "    .dataframe tbody tr th {\n",
       "        vertical-align: top;\n",
       "    }\n",
       "\n",
       "    .dataframe thead th {\n",
       "        text-align: right;\n",
       "    }\n",
       "</style>\n",
       "<table border=\"1\" class=\"dataframe\">\n",
       "  <thead>\n",
       "    <tr style=\"text-align: right;\">\n",
       "      <th></th>\n",
       "      <th>multi_preds</th>\n",
       "      <th>ridge_preds</th>\n",
       "      <th>knn_preds</th>\n",
       "      <th>lasso_preds</th>\n",
       "      <th>tree_preds</th>\n",
       "    </tr>\n",
       "  </thead>\n",
       "  <tbody>\n",
       "    <tr>\n",
       "      <th>0</th>\n",
       "      <td>146602.615569</td>\n",
       "      <td>145019.279209</td>\n",
       "      <td>234678</td>\n",
       "      <td>144878.645546</td>\n",
       "      <td>202654</td>\n",
       "    </tr>\n",
       "  </tbody>\n",
       "</table>\n",
       "</div>"
      ],
      "text/plain": [
       "     multi_preds    ridge_preds  knn_preds    lasso_preds  tree_preds\n",
       "0  146602.615569  145019.279209     234678  144878.645546      202654"
      ]
     },
     "execution_count": 28,
     "metadata": {},
     "output_type": "execute_result"
    }
   ],
   "source": [
    "rss_df"
   ]
  },
  {
   "cell_type": "markdown",
   "metadata": {},
   "source": [
    "### Validation and Visualization"
   ]
  },
  {
   "cell_type": "markdown",
   "metadata": {},
   "source": [
    "Choosing to visualize knn results and lasso results because those models have the lowest RSS scores."
   ]
  },
  {
   "cell_type": "code",
   "execution_count": 29,
   "metadata": {},
   "outputs": [
    {
     "data": {
      "image/png": "[encoded data removed]",
      "text/plain": [
       "<Figure size 720x720 with 1 Axes>"
      ]
     },
     "metadata": {
      "needs_background": "light"
     },
     "output_type": "display_data"
    }
   ],
   "source": [
    "# Bar chart of RSS values\n",
    "features = list(rss_df.columns.values)\n",
    "corr_nums = list(rss_df.loc[0])\n",
    "\n",
    "plt.figure(figsize=(10,10))\n",
    "plt.barh(features, corr_nums, align='center', alpha=0.5)\n",
    "plt.yticks(features, features)\n",
    "plt.xlabel('RSS scpre')\n",
    "plt.title('RSS score for multiple modeling algorithms')\n",
    "\n",
    "plt.show()"
   ]
  },
  {
   "cell_type": "code",
   "execution_count": 30,
   "metadata": {},
   "outputs": [
    {
     "data": {
      "image/png": "[encoded data removed]",
      "text/plain": [
       "<Figure size 720x720 with 1 Axes>"
      ]
     },
     "metadata": {
      "needs_background": "light"
     },
     "output_type": "display_data"
    }
   ],
   "source": [
    "# The more linear the results are, the more accurately it predicts the total cases\n",
    "plt.figure(figsize=(10,10))\n",
    "plt.axis((0,80,0,150))\n",
    "plt.scatter(results_df.ridge_preds, results_df.total_cases, alpha = 0.3, c=\"red\")\n",
    "plt.scatter(results_df.lasso_preds,results_df.total_cases, alpha = 0.3, c=\"green\")\n",
    "plt.title(\"Comparing total cases vs predicted cases\")\n",
    "plt.xlabel(\"predicted cases\")\n",
    "plt.ylabel(\"total cases\")\n",
    "plt.plot([0, 150], [0, 150])\n",
    "\n",
    "plt.show()"
   ]
  },
  {
   "cell_type": "markdown",
   "metadata": {},
   "source": [
    "#### Interpretation\n",
    "\n",
    "A linear line where x = y means the predicted number of cases is 100% accurate\n",
    "\n",
    "RSS values for lasso and ridge and quite similar, though we are surprised to see how much the predicted cases overlap\n",
    "\n",
    "Let's zoom in to take a closer look.\n"
   ]
  },
  {
   "cell_type": "code",
   "execution_count": 31,
   "metadata": {},
   "outputs": [
    {
     "data": {
      "image/png": "[encoded data removed]",
      "text/plain": [
       "<Figure size 720x720 with 1 Axes>"
      ]
     },
     "metadata": {
      "needs_background": "light"
     },
     "output_type": "display_data"
    }
   ],
   "source": [
    "# Zooming in on the density of clusters\n",
    "plt.figure(figsize=(10,10))\n",
    "plt.axis((0,25,0,25))\n",
    "plt.scatter(results_df.ridge_preds, results_df.total_cases, alpha = 0.3, c=\"red\")\n",
    "plt.scatter(results_df.lasso_preds,results_df.total_cases, alpha = 0.3, c=\"green\")\n",
    "plt.title(\"Comparing total cases vs predicted cases\")\n",
    "plt.xlabel(\"predicted cases\")\n",
    "plt.ylabel(\"total cases\")\n",
    "plt.plot([0, 25], [0, 25])\n",
    "\n",
    "plt.show()"
   ]
  },
  {
   "cell_type": "markdown",
   "metadata": {},
   "source": [
    "#### Interpretation\n",
    "\n",
    "Most points in both the lasso regression and ridge regression are quite close to one another. Perhaps this is because both modeling methods are using learning-based feature selection and the same alpha value to determine the weight on each feature.\n",
    "\n",
    "As our final visualization, we'll take the model with the lowest RSS value (Lasso regression) and input the best feature values we should use accourd to our GridSearch, where the alpha value = 0.0009900000000000004."
   ]
  },
  {
   "cell_type": "code",
   "execution_count": 32,
   "metadata": {
    "scrolled": true
   },
   "outputs": [],
   "source": [
    "lassoReg_improved = Lasso(alpha=0.0009900000000000004, normalize=True)\n",
    "lassoReg_improved.fit(X_train, Y_train)\n",
    "lasso_preds_improved = lassoReg_improved.predict(X_test)\n",
    "\n",
    "improved_df = pd.DataFrame()\n",
    "improved_df['total_cases'] = test_features.total_cases\n",
    "improved_df['lasso_preds_improved'] = lasso_preds_improved\n"
   ]
  },
  {
   "cell_type": "code",
   "execution_count": 34,
   "metadata": {},
   "outputs": [
    {
     "name": "stdout",
     "output_type": "stream",
     "text": [
      "lasso_improved 144980.5080603656\n",
      "lasso_previous 144878.64554617408\n"
     ]
    },
    {
     "data": {
      "text/plain": [
       "144878.64554617408"
      ]
     },
     "execution_count": 34,
     "metadata": {},
     "output_type": "execute_result"
    }
   ],
   "source": [
    "calculate_RSS(list([improved_df.total_cases]), list([improved_df.lasso_preds_improved]), 'lasso_improved')\n",
    "calculate_RSS(list([results_df.total_cases]), list([results_df.lasso_preds]), 'lasso_previous')\n"
   ]
  },
  {
   "cell_type": "markdown",
   "metadata": {},
   "source": [
    "#### Lasso Improvements Interpretation\n",
    "\n",
    "According to grid search which had a wider range of alpha values to choose from, determining the alpha values based on the 'neg_mean_squared_error' scoring allowed for a similar RSS value. \n",
    "\n",
    "We will visualize the predicted results with the improved lasso regression"
   ]
  },
  {
   "cell_type": "code",
   "execution_count": 35,
   "metadata": {},
   "outputs": [
    {
     "data": {
      "image/png": "[encoded data removed]",
      "text/plain": [
       "<Figure size 720x720 with 1 Axes>"
      ]
     },
     "metadata": {
      "needs_background": "light"
     },
     "output_type": "display_data"
    }
   ],
   "source": [
    "# Comparing lasso regression models with different alphas\n",
    "plt.figure(figsize=(10,10))\n",
    "plt.axis((0,150,0,80))\n",
    "plt.scatter(improved_df.lasso_preds_improved, results_df.total_cases, alpha = 0.3, c=\"green\")\n",
    "plt.scatter(results_df.lasso_preds, results_df.total_cases, alpha = 0.3, c=\"purple\")\n",
    "plt.title(\"Comparing improved lasso predicted cases vs the previous lasso predicted cases\")\n",
    "plt.xlabel(\"predicted cases\")\n",
    "plt.ylabel(\"total cases\")\n",
    "plt.plot([0, 150], [0, 150])\n",
    "\n",
    "plt.show()"
   ]
  },
  {
   "cell_type": "markdown",
   "metadata": {},
   "source": [
    "<br>\n",
    "<br>\n",
    "<br>\n",
    "<br>\n",
    "\n",
    "## Competition Prediction"
   ]
  },
  {
   "cell_type": "markdown",
   "metadata": {},
   "source": [
    "<br>\n",
    "\n",
    "**Lasso Regression** on test data"
   ]
  },
  {
   "cell_type": "code",
   "execution_count": 99,
   "metadata": {},
   "outputs": [],
   "source": [
    "feature_test = feature_test.dropna()\n",
    "competition_df = feature_test[['city','year', 'weekofyear']]"
   ]
  },
  {
   "cell_type": "markdown",
   "metadata": {},
   "source": [
    "They are fairly similar\n",
    "Previous lasso regression with the lower RSS score would be more accurate = closer to the linear line of accuracy"
   ]
  },
  {
   "cell_type": "code",
   "execution_count": 102,
   "metadata": {
    "scrolled": true
   },
   "outputs": [
    {
     "data": {
      "text/plain": [
       "Lasso(alpha=0.0005400000000000003, copy_X=True, fit_intercept=True,\n",
       "   max_iter=1000, normalize=True, positive=False, precompute=False,\n",
       "   random_state=None, selection='cyclic', tol=0.0001, warm_start=False)"
      ]
     },
     "execution_count": 102,
     "metadata": {},
     "output_type": "execute_result"
    }
   ],
   "source": [
    "# Build model on all of our data, not only split data\n",
    "\n",
    "lassoReg_competition = Lasso(alpha=alpha, normalize=True)\n",
    "lassoReg_competition.fit(normalized_df.drop(['total_cases'], axis =1), normalized_df.total_cases)\n"
   ]
  },
  {
   "cell_type": "code",
   "execution_count": 103,
   "metadata": {
    "code_folding": [
     0
    ],
    "scrolled": true
   },
   "outputs": [],
   "source": [
    "# Normalize our test data to make it the same format at our feature data\n",
    "\n",
    "feature_test['reanalysis_air_temp_c'] = feature_test['reanalysis_air_temp_k'] - 273.15\n",
    "feature_test['reanalysis_tdtr_c'] = feature_test['reanalysis_tdtr_k'] - 273.15\n",
    "feature_test['reanalysis_avg_temp_c'] = feature_test['reanalysis_avg_temp_k'] - 273.15\n",
    "feature_test['reanalysis_dew_point_temp_c'] = feature_test['reanalysis_dew_point_temp_k'] - 273.15\n",
    "feature_test['reanalysis_min_air_temp_c'] = feature_test['reanalysis_min_air_temp_k'] - 273.15\n",
    "feature_test['reanalysis_max_air_temp_c'] = feature_test['reanalysis_max_air_temp_k'] - 273.15\n",
    "\n",
    "\n",
    "\n",
    "feature_test = feature_test.drop(['reanalysis_air_temp_k', 'reanalysis_tdtr_k', 'reanalysis_avg_temp_k', 'reanalysis_dew_point_temp_k', 'reanalysis_min_air_temp_k', 'reanalysis_max_air_temp_k'], axis=1)\n",
    "feature_test = feature_test.drop(['city', 'week_start_date'], axis=1)\n",
    "\n",
    "# Adding one new column, average temperature\n",
    "feature_test['new_avg_temp_c'] = ( feature_test.station_avg_temp_c + feature_test.reanalysis_avg_temp_c)/ 2\n"
   ]
  },
  {
   "cell_type": "code",
   "execution_count": 104,
   "metadata": {},
   "outputs": [],
   "source": [
    "lasso_preds_competition = lassoReg_competition.predict(feature_test)\n",
    "competition_df['total_cases'] = lasso_preds_competition"
   ]
  },
  {
   "cell_type": "code",
   "execution_count": 107,
   "metadata": {
    "scrolled": true
   },
   "outputs": [],
   "source": [
    "competition_df.to_csv(\"data/SUBMISSION.csv\", index=False)"
   ]
  },
  {
   "cell_type": "markdown",
   "metadata": {},
   "source": [
    "<br>\n",
    "\n",
    "**Ridge Regression** on test data"
   ]
  },
  {
   "cell_type": "code",
   "execution_count": 108,
   "metadata": {},
   "outputs": [],
   "source": [
    "# start with fresh df\n",
    "competition_df = competition_df.drop(['total_cases'], axis=1)\n",
    "\n",
    "# run ridge\n",
    "ridge_reg = Ridge(alpha=(row3.alpha_lasso).iloc[0],normalize=True)\n",
    "ridge_reg = ridge_reg.fit(normalized_df.drop(['total_cases'], axis =1), normalized_df.total_cases)\n",
    "\n",
    "ridge_preds = ridge_reg.predict(feature_test)\n",
    "competition_df['total_cases'] = ridge_preds"
   ]
  },
  {
   "cell_type": "code",
   "execution_count": 109,
   "metadata": {},
   "outputs": [],
   "source": [
    "competition_df.to_csv(\"data/SUBMISSION_2.csv\", index=False)"
   ]
  }
 ],
 "metadata": {
  "kernelspec": {
   "display_name": "Python 3",
   "language": "python",
   "name": "python3"
  },
  "language_info": {
   "codemirror_mode": {
    "name": "ipython",
    "version": 3
   },
   "file_extension": ".py",
   "mimetype": "text/x-python",
   "name": "python",
   "nbconvert_exporter": "python",
   "pygments_lexer": "ipython3",
   "version": "3.7.1"
  }
 },
 "nbformat": 4,
 "nbformat_minor": 2
}
